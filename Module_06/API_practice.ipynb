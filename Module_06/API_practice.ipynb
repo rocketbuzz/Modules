{
 "cells": [
  {
   "cell_type": "code",
   "execution_count": 17,
   "id": "704d1335",
   "metadata": {},
   "outputs": [
    {
     "name": "stdout",
     "output_type": "stream",
     "text": [
      "Requirement already satisfied: citipy in c:\\programdata\\anaconda3\\lib\\site-packages (0.0.5)\n",
      "Requirement already satisfied: kdtree>=0.12 in c:\\programdata\\anaconda3\\lib\\site-packages (from citipy) (0.16)\n"
     ]
    }
   ],
   "source": [
    "# Install citipy via  jupyter\n",
    "\n",
    "!pip install citipy\n"
   ]
  },
  {
   "cell_type": "code",
   "execution_count": 18,
   "id": "476928e0",
   "metadata": {},
   "outputs": [],
   "source": [
    "# Use the citipy module to determine city based on latitude and longitude.\n",
    "\n",
    "from citipy import citipy\n"
   ]
  },
  {
   "cell_type": "code",
   "execution_count": 19,
   "id": "b399a693",
   "metadata": {},
   "outputs": [
    {
     "data": {
      "text/plain": [
       "'nishihara'"
      ]
     },
     "execution_count": 19,
     "metadata": {},
     "output_type": "execute_result"
    }
   ],
   "source": [
    "city = citipy.nearest_city(21.99, 133.21)\n",
    "city.city_name"
   ]
  },
  {
   "cell_type": "code",
   "execution_count": 20,
   "id": "1647b0a4",
   "metadata": {},
   "outputs": [
    {
     "ename": "NameError",
     "evalue": "name 'e32035c590e766bf68fbfb602be6933b' is not defined",
     "output_type": "error",
     "traceback": [
      "\u001b[1;31m---------------------------------------------------------------------------\u001b[0m",
      "\u001b[1;31mNameError\u001b[0m                                 Traceback (most recent call last)",
      "\u001b[1;32m<ipython-input-20-16c9b6bf28fe>\u001b[0m in \u001b[0;36m<module>\u001b[1;34m\u001b[0m\n\u001b[1;32m----> 1\u001b[1;33m \u001b[0me32035c590e766bf68fbfb602be6933b\u001b[0m\u001b[1;33m\u001b[0m\u001b[1;33m\u001b[0m\u001b[0m\n\u001b[0m",
      "\u001b[1;31mNameError\u001b[0m: name 'e32035c590e766bf68fbfb602be6933b' is not defined"
     ]
    }
   ],
   "source": [
    "e32035c590e766bf68fbfb602be6933b\n"
   ]
  },
  {
   "cell_type": "code",
   "execution_count": null,
   "id": "5b78abb6",
   "metadata": {},
   "outputs": [],
   "source": []
  }
 ],
 "metadata": {
  "kernelspec": {
   "display_name": "Python 3",
   "language": "python",
   "name": "python3"
  },
  "language_info": {
   "codemirror_mode": {
    "name": "ipython",
    "version": 3
   },
   "file_extension": ".py",
   "mimetype": "text/x-python",
   "name": "python",
   "nbconvert_exporter": "python",
   "pygments_lexer": "ipython3",
   "version": "3.8.8"
  }
 },
 "nbformat": 4,
 "nbformat_minor": 5
}
