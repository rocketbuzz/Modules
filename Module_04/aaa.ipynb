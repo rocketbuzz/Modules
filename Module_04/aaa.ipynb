{
 "cells": [
  {
   "cell_type": "code",
   "execution_count": 1,
   "source": [
    "import pandas as pd\r\n",
    "\r\n",
    "ds1 = pd.Series([10,20,30,40])\r\n",
    "ds2 = pd.Series([\"sanku\",\"manku\",\"banku\",\"tunku\"])\r\n",
    "total =ds1.sum()\r\n",
    "print( total)\r\n",
    "\r\n",
    "print(\"A:::==========================\")\r\n",
    "\r\n",
    "df =  pd.DataFrame({ \"name\": ds2, \"val\":ds1 })\r\n",
    "print(df)\r\n",
    "\r\n",
    "print(\"B:==========================\")\r\n",
    "df2= df.set_index(\"name\")\r\n",
    "print(df2)\r\n",
    "print(\"C:==========================\")"
   ],
   "outputs": [
    {
     "output_type": "stream",
     "name": "stdout",
     "text": [
      "100\n",
      "A:::==========================\n",
      "    name  val\n",
      "0  sanku   10\n",
      "1  manku   20\n",
      "2  banku   30\n",
      "3  tunku   40\n",
      "B:==========================\n",
      "       val\n",
      "name      \n",
      "sanku   10\n",
      "manku   20\n",
      "banku   30\n",
      "tunku   40\n",
      "C:==========================\n"
     ]
    }
   ],
   "metadata": {}
  }
 ],
 "metadata": {
  "kernelspec": {
   "display_name": "Python 3",
   "language": "python",
   "name": "python3"
  },
  "language_info": {
   "codemirror_mode": {
    "name": "ipython",
    "version": 3
   },
   "file_extension": ".py",
   "mimetype": "text/x-python",
   "name": "python",
   "nbconvert_exporter": "python",
   "pygments_lexer": "ipython3",
   "version": "3.8.8"
  }
 },
 "nbformat": 4,
 "nbformat_minor": 5
}